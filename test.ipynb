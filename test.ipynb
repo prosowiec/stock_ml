{
 "cells": [
  {
   "cell_type": "code",
   "execution_count": 1,
   "metadata": {},
   "outputs": [],
   "source": [
    "from bs4 import BeautifulSoup\n",
    "import requests\n",
    "import regex as re\n",
    "from datetime import datetime, timedelta"
   ]
  },
  {
   "cell_type": "code",
   "execution_count": 24,
   "metadata": {},
   "outputs": [
    {
     "name": "stdout",
     "output_type": "stream",
     "text": [
      "{'TGOPY', 'ENPH', 'STMEF', 'NTRA', 'WOOF', 'GLBE', 'ENTG', 'RLX', 'PTCT', 'ICUI', 'TV', 'ROIV', 'OCDDY', 'BPYPP', 'BBIO', 'RUN', 'BPMC', 'PSNY', 'RMBS', 'DKNG', 'WBS-PF', 'SHOP', 'SEDG', 'WAL', 'PACB', 'AI', 'LNC', 'PCTY', 'PAYX', 'SLG-PI', 'NICE', 'FORM', 'DNA', 'MSTR', 'VONOY', 'WDC', 'INTC', 'CALM', 'TBVPF', 'AFRM', 'SPB', 'U', 'APP', 'SAGE', 'HOOD', 'STX', 'ENVX', 'LRCX', 'PI', 'LSRCY', 'MRVL', 'CTAS', 'PTON', 'MBLY', 'GBTG', 'NYCB-PA', 'OLK', 'FUTU', 'PAYC', 'CHPT', 'BE', 'FTAI', 'WOLF', 'PLUG', 'UBSFY', 'GRAB', 'GSAT', 'SRAD', 'FLYW', 'PATH', 'VICR', 'NABL', 'CX', 'XPEV', 'CCL', 'RIVN', 'LKNCY', 'CHWY', 'LULU', 'JOBY', 'LU', 'ACLS', 'MU', 'SPWR', 'DRS', 'GFS', 'NU', 'NIO', 'RUM', 'ROKU', 'NCLH', 'FRC', 'PILBF', 'KEY-PI', 'TAL', 'RF-PB', 'PROSF', 'DISH', 'CIBEY', 'CUK'}\n"
     ]
    }
   ],
   "source": [
    "url = 'https://finance.yahoo.com/gainers?offset=0&count=100'\n",
    "agent = {\"User-Agent\":'Mozilla/5.0 (Windows NT 6.3; WOW64) AppleWebKit/537.36 (KHTML, like Gecko) Chrome/59.0.3071.115 Safari/537.36'}\n",
    "r = requests.get(url, headers = agent, timeout=1000)\n",
    "soup = BeautifulSoup(r.content)\n",
    "\n",
    "#(?<=data-symbol=\\\")(.*?)(?=\\\")\n",
    "#param_table = soup.find_all(\"div\", {\"class\":\"Pos(r) Pos(r) Mih(265px)\"})[0]\n",
    "param_table = soup.find_all(\"table\", {\"class\":\"W(100%)\"})[0]\n",
    "\n",
    "symbols_gainers_pattern = re.compile('(?<=data-symbol=\\\")(.*?)(?=\\\")')\n",
    "symbols_gainers = set(re.findall(symbols_gainers_pattern, str(param_table)))\n"
   ]
  },
  {
   "cell_type": "code",
   "execution_count": 25,
   "metadata": {},
   "outputs": [
    {
     "name": "stdout",
     "output_type": "stream",
     "text": [
      "100\n"
     ]
    }
   ],
   "source": [
    "print(len(symbols_gainers))"
   ]
  },
  {
   "cell_type": "code",
   "execution_count": 27,
   "metadata": {},
   "outputs": [
    {
     "name": "stdout",
     "output_type": "stream",
     "text": [
      "{'TGOPY', 'ENPH', 'STMEF', 'NTRA', 'WOOF', 'GLBE', 'ENTG', 'RLX', 'PTCT', 'ICUI', 'TV', 'ROIV', 'OCDDY', 'BPYPP', 'BBIO', 'RUN', 'BPMC', 'PSNY', 'RMBS', 'DKNG', 'WBS-PF', 'SHOP', 'SEDG', 'WAL', 'PACB', 'AI', 'LNC', 'PCTY', 'PAYX', 'SLG-PI', 'NICE', 'FORM', 'DNA', 'MSTR', 'VONOY', 'WDC', 'INTC', 'CALM', 'TBVPF', 'AFRM', 'SPB', 'U', 'APP', 'SAGE', 'HOOD', 'STX', 'ENVX', 'LRCX', 'PI', 'LSRCY', 'MRVL', 'CTAS', 'PTON', 'MBLY', 'GBTG', 'NYCB-PA', 'OLK', 'FUTU', 'PAYC', 'CHPT', 'BE', 'FTAI', 'WOLF', 'PLUG', 'UBSFY', 'GRAB', 'GSAT', 'SRAD', 'FLYW', 'PATH', 'VICR', 'NABL', 'CX', 'XPEV', 'CCL', 'RIVN', 'LKNCY', 'CHWY', 'LULU', 'JOBY', 'LU', 'ACLS', 'MU', 'SPWR', 'DRS', 'GFS', 'NU', 'NIO', 'RUM', 'ROKU', 'NCLH', 'FRC', 'PILBF', 'KEY-PI', 'TAL', 'RF-PB', 'PROSF', 'DISH', 'CIBEY', 'CUK'}\n"
     ]
    }
   ],
   "source": [
    "url = 'https://finance.yahoo.com/losers?offset=0&count=100'\n",
    "agent = {\"User-Agent\":'Mozilla/5.0 (Windows NT 6.3; WOW64) AppleWebKit/537.36 (KHTML, like Gecko) Chrome/59.0.3071.115 Safari/537.36'}\n",
    "r = requests.get(url, headers = agent, timeout=1000)\n",
    "soup_losers = BeautifulSoup(r.content)\n",
    "\n",
    "#(?<=data-symbol=\\\")(.*?)(?=\\\")\n",
    "#param_table = soup.find_all(\"div\", {\"class\":\"Pos(r) Pos(r) Mih(265px)\"})[0]\n",
    "param_table_losers = soup_losers.find_all(\"table\", {\"class\":\"W(100%)\"})[0]\n",
    "\n",
    "symbols_losers_pattern = re.compile('(?<=data-symbol=\\\")(.*?)(?=\\\")')\n",
    "symbols_losers = set(re.findall(symbols_gainers_pattern, str(param_table)))\n",
    "\n",
    "print(symbols_losers)"
   ]
  },
  {
   "cell_type": "code",
   "execution_count": 2,
   "metadata": {},
   "outputs": [
    {
     "name": "stdout",
     "output_type": "stream",
     "text": [
      "-2.98\n"
     ]
    }
   ],
   "source": [
    "#change\n",
    "url = 'https://finance.yahoo.com/quote/GME?p=GME'\n",
    "agent = {\"User-Agent\":'Mozilla/5.0 (Windows NT 6.3; WOW64) AppleWebKit/537.36 (KHTML, like Gecko) Chrome/59.0.3071.115 Safari/537.36'}\n",
    "r = requests.get(url, headers = agent, timeout=1000)\n",
    "soup = BeautifulSoup(r.content)\n",
    "#id smartDaConfig\n",
    "#(?<=\\\"FIN_TICKER_PRICE_CHANGE_PERCENT\\\":\\\")(.*?)(?=%\\\")\n",
    "param_table = soup.find_all(\"div\", {\"id\":\"smartDaConfig\"})[0]\n",
    "\n",
    "pattern_change = re.compile('(?<=\\\"FIN_TICKER_PRICE_CHANGE_PERCENT\\\":\\\")(.*?)(?=%\\\")')\n",
    "symbol_change = re.findall(pattern_change, str(param_table))[0]\n",
    "\n",
    "\n",
    "print(symbol_change)"
   ]
  },
  {
   "cell_type": "code",
   "execution_count": 17,
   "metadata": {},
   "outputs": [
    {
     "name": "stdout",
     "output_type": "stream",
     "text": [
      "-1.04\n"
     ]
    }
   ],
   "source": [
    "eps_table = soup.find_all(\"td\", {\"data-test\":\"EPS_RATIO-value\"})[0]\n",
    "\n",
    "print(float(eps_table.text))"
   ]
  },
  {
   "cell_type": "code",
   "execution_count": 20,
   "metadata": {},
   "outputs": [
    {
     "name": "stdout",
     "output_type": "stream",
     "text": [
      "6.843\n"
     ]
    }
   ],
   "source": [
    "#data-test=\"MARKET_CAP-value\"\n",
    "market_cap = str(soup.find_all(\"td\", {\"data-test\":\"MARKET_CAP-value\"})[0].text)\n",
    "market_cap = market_cap.replace('B','')\n",
    "print((market_cap))"
   ]
  },
  {
   "cell_type": "code",
   "execution_count": 21,
   "metadata": {},
   "outputs": [
    {
     "ename": "ValueError",
     "evalue": "could not convert string to float: 'N/A'",
     "output_type": "error",
     "traceback": [
      "\u001b[1;31m---------------------------------------------------------------------------\u001b[0m",
      "\u001b[1;31mValueError\u001b[0m                                Traceback (most recent call last)",
      "\u001b[1;32mc:\\programowanie\\stock_picker\\test.ipynb Komórka 8\u001b[0m in \u001b[0;36m2\n\u001b[0;32m      <a href='vscode-notebook-cell:/c%3A/programowanie/stock_picker/test.ipynb#X10sZmlsZQ%3D%3D?line=0'>1</a>\u001b[0m pe_ratio \u001b[39m=\u001b[39m soup\u001b[39m.\u001b[39mfind_all(\u001b[39m\"\u001b[39m\u001b[39mtd\u001b[39m\u001b[39m\"\u001b[39m, {\u001b[39m\"\u001b[39m\u001b[39mdata-test\u001b[39m\u001b[39m\"\u001b[39m:\u001b[39m\"\u001b[39m\u001b[39mPE_RATIO-value\u001b[39m\u001b[39m\"\u001b[39m})[\u001b[39m0\u001b[39m]\n\u001b[1;32m----> <a href='vscode-notebook-cell:/c%3A/programowanie/stock_picker/test.ipynb#X10sZmlsZQ%3D%3D?line=1'>2</a>\u001b[0m \u001b[39mprint\u001b[39m( \u001b[39mfloat\u001b[39;49m(pe_ratio\u001b[39m.\u001b[39;49mtext))\n",
      "\u001b[1;31mValueError\u001b[0m: could not convert string to float: 'N/A'"
     ]
    }
   ],
   "source": [
    "pe_ratio = soup.find_all(\"td\", {\"data-test\":\"fin-col\"})[0]\n",
    "print( float(pe_ratio.text))"
   ]
  },
  {
   "cell_type": "code",
   "execution_count": 35,
   "metadata": {},
   "outputs": [
    {
     "name": "stdout",
     "output_type": "stream",
     "text": [
      "[<div class=\"D(tbr) fi-row Bgc($hoverBgColor):h\"><div class=\"D(tbc) Ta(start) Pend(15px)--mv2 Pend(10px) Bxz(bb) Py(8px) Bdends(s) Bdbs(s) Bdstarts(s) Bdstartw(1px) Bdbw(1px) Bdendw(1px) Bdc($seperatorColor) Pos(st) Start(0) Bgc($lv2BgColor) fi-row:h_Bgc($hoverBgColor) Pstart(15px)--mv2 Pstart(10px)\"><div class=\"D(ib) Va(m) Ell Mt(-3px) W(215px)--mv2 W(200px) undefined\" title=\"Total Revenue\"><button aria-label=\"Total Revenue\" class=\"P(0) M(0) Va(m) Bd(0) Fz(s) Mend(2px) tgglBtn\"><svg class=\"H(16px) Fill($primaryColor) Stk($primaryColor) tgglBtn:h_Fill($linkColor) tgglBtn:h_Stk($linkColor) Cur(p)\" data-icon=\"caret-right\" height=\"16\" style=\"stroke-width:0;vertical-align:bottom\" viewbox=\"0 0 48 48\" width=\"16\"><path d=\"M33.447 24.102L20.72 11.375c-.78-.78-2.048-.78-2.828 0-.78.78-.78 2.047 0 2.828l9.9 9.9-9.9 9.9c-.78.78-.78 2.047 0 2.827.78.78 2.047.78 2.828 0l12.727-12.728z\"></path></svg></button><span class=\"Va(m)\">Total Revenue</span></div><div class=\"W(3px) Pos(a) Start(100%) T(0) H(100%) Bg($pfColumnFakeShadowGradient) Pe(n) Pend(5px)\"></div></div><div class=\"Ta(c) Py(6px) Bxz(bb) BdB Bdc($seperatorColor) Miw(120px) Miw(100px)--pnclg Bgc($lv1BgColor) fi-row:h_Bgc($hoverBgColor) D(tbc)\" data-test=\"fin-col\"><span>282,836,000</span></div><div class=\"Ta(c) Py(6px) Bxz(bb) BdB Bdc($seperatorColor) Miw(120px) Miw(100px)--pnclg D(tbc)\" data-test=\"fin-col\"><span>282,836,000</span></div><div class=\"Ta(c) Py(6px) Bxz(bb) BdB Bdc($seperatorColor) Miw(120px) Miw(100px)--pnclg Bgc($lv1BgColor) fi-row:h_Bgc($hoverBgColor) D(tbc)\" data-test=\"fin-col\"><span>257,637,000</span></div><div class=\"Ta(c) Py(6px) Bxz(bb) BdB Bdc($seperatorColor) Miw(120px) Miw(100px)--pnclg D(tbc)\" data-test=\"fin-col\"><span>182,527,000</span></div><div class=\"Ta(c) Py(6px) Bxz(bb) BdB Bdc($seperatorColor) Miw(120px) Miw(100px)--pnclg Bgc($lv1BgColor) fi-row:h_Bgc($hoverBgColor) D(tbc)\" data-test=\"fin-col\"><span>161,857,000</span></div></div>, <div class=\"D(tbr) fi-row Bgc($hoverBgColor):h\"><div class=\"D(tbc) Ta(start) Pend(15px)--mv2 Pend(10px) Bxz(bb) Py(8px) Bdends(s) Bdbs(s) Bdstarts(s) Bdstartw(1px) Bdbw(1px) Bdendw(1px) Bdc($seperatorColor) Pos(st) Start(0) Bgc($lv2BgColor) fi-row:h_Bgc($hoverBgColor) Pstart(15px)--mv2 Pstart(10px)\"><div class=\"D(ib) Va(m) Ell Mt(-3px) W(215px)--mv2 W(200px) undefined\" title=\"Cost of Revenue\"><span class=\"Va(m)\">Cost of Revenue</span></div><div class=\"W(3px) Pos(a) Start(100%) T(0) H(100%) Bg($pfColumnFakeShadowGradient) Pe(n) Pend(5px)\"></div></div><div class=\"Ta(c) Py(6px) Bxz(bb) BdB Bdc($seperatorColor) Miw(120px) Miw(100px)--pnclg Bgc($lv1BgColor) fi-row:h_Bgc($hoverBgColor) D(tbc)\" data-test=\"fin-col\"><span>126,203,000</span></div><div class=\"Ta(c) Py(6px) Bxz(bb) BdB Bdc($seperatorColor) Miw(120px) Miw(100px)--pnclg D(tbc)\" data-test=\"fin-col\"><span>126,203,000</span></div><div class=\"Ta(c) Py(6px) Bxz(bb) BdB Bdc($seperatorColor) Miw(120px) Miw(100px)--pnclg Bgc($lv1BgColor) fi-row:h_Bgc($hoverBgColor) D(tbc)\" data-test=\"fin-col\"><span>110,939,000</span></div><div class=\"Ta(c) Py(6px) Bxz(bb) BdB Bdc($seperatorColor) Miw(120px) Miw(100px)--pnclg D(tbc)\" data-test=\"fin-col\"><span>84,732,000</span></div><div class=\"Ta(c) Py(6px) Bxz(bb) BdB Bdc($seperatorColor) Miw(120px) Miw(100px)--pnclg Bgc($lv1BgColor) fi-row:h_Bgc($hoverBgColor) D(tbc)\" data-test=\"fin-col\"><span>71,896,000</span></div></div>, <div class=\"D(tbr) fi-row Bgc($hoverBgColor):h\"><div class=\"D(tbc) Ta(start) Pend(15px)--mv2 Pend(10px) Bxz(bb) Py(8px) Bdends(s) Bdbs(s) Bdstarts(s) Bdstartw(1px) Bdbw(1px) Bdendw(1px) Bdc($seperatorColor) Pos(st) Start(0) Bgc($lv2BgColor) fi-row:h_Bgc($hoverBgColor) Pstart(15px)--mv2 Pstart(10px)\"><div class=\"D(ib) Va(m) Ell Mt(-3px) W(215px)--mv2 W(200px) undefined\" title=\"Gross Profit\"><span class=\"Va(m)\">Gross Profit</span></div><div class=\"W(3px) Pos(a) Start(100%) T(0) H(100%) Bg($pfColumnFakeShadowGradient) Pe(n) Pend(5px)\"></div></div><div class=\"Ta(c) Py(6px) Bxz(bb) BdB Bdc($seperatorColor) Miw(120px) Miw(100px)--pnclg Bgc($lv1BgColor) fi-row:h_Bgc($hoverBgColor) D(tbc)\" data-test=\"fin-col\"><span>156,633,000</span></div><div class=\"Ta(c) Py(6px) Bxz(bb) BdB Bdc($seperatorColor) Miw(120px) Miw(100px)--pnclg D(tbc)\" data-test=\"fin-col\"><span>156,633,000</span></div><div class=\"Ta(c) Py(6px) Bxz(bb) BdB Bdc($seperatorColor) Miw(120px) Miw(100px)--pnclg Bgc($lv1BgColor) fi-row:h_Bgc($hoverBgColor) D(tbc)\" data-test=\"fin-col\"><span>146,698,000</span></div><div class=\"Ta(c) Py(6px) Bxz(bb) BdB Bdc($seperatorColor) Miw(120px) Miw(100px)--pnclg D(tbc)\" data-test=\"fin-col\"><span>97,795,000</span></div><div class=\"Ta(c) Py(6px) Bxz(bb) BdB Bdc($seperatorColor) Miw(120px) Miw(100px)--pnclg Bgc($lv1BgColor) fi-row:h_Bgc($hoverBgColor) D(tbc)\" data-test=\"fin-col\"><span>89,961,000</span></div></div>, <div class=\"D(tbr) fi-row Bgc($hoverBgColor):h\"><div class=\"D(tbc) Ta(start) Pend(15px)--mv2 Pend(10px) Bxz(bb) Py(8px) Bdends(s) Bdbs(s) Bdstarts(s) Bdstartw(1px) Bdbw(1px) Bdendw(1px) Bdc($seperatorColor) Pos(st) Start(0) Bgc($lv2BgColor) fi-row:h_Bgc($hoverBgColor) Pstart(15px)--mv2 Pstart(10px)\"><div class=\"D(ib) Va(m) Ell Mt(-3px) W(215px)--mv2 W(200px) undefined\" title=\"Operating Expense\"><button aria-label=\"Operating Expense\" class=\"P(0) M(0) Va(m) Bd(0) Fz(s) Mend(2px) tgglBtn\"><svg class=\"H(16px) Fill($primaryColor) Stk($primaryColor) tgglBtn:h_Fill($linkColor) tgglBtn:h_Stk($linkColor) Cur(p)\" data-icon=\"caret-right\" height=\"16\" style=\"stroke-width:0;vertical-align:bottom\" viewbox=\"0 0 48 48\" width=\"16\"><path d=\"M33.447 24.102L20.72 11.375c-.78-.78-2.048-.78-2.828 0-.78.78-.78 2.047 0 2.828l9.9 9.9-9.9 9.9c-.78.78-.78 2.047 0 2.827.78.78 2.047.78 2.828 0l12.727-12.728z\"></path></svg></button><span class=\"Va(m)\">Operating Expense</span></div><div class=\"W(3px) Pos(a) Start(100%) T(0) H(100%) Bg($pfColumnFakeShadowGradient) Pe(n) Pend(5px)\"></div></div><div class=\"Ta(c) Py(6px) Bxz(bb) BdB Bdc($seperatorColor) Miw(120px) Miw(100px)--pnclg Bgc($lv1BgColor) fi-row:h_Bgc($hoverBgColor) D(tbc)\" data-test=\"fin-col\"><span>81,791,000</span></div><div class=\"Ta(c) Py(6px) Bxz(bb) BdB Bdc($seperatorColor) Miw(120px) Miw(100px)--pnclg D(tbc)\" data-test=\"fin-col\"><span>81,791,000</span></div><div class=\"Ta(c) Py(6px) Bxz(bb) BdB Bdc($seperatorColor) Miw(120px) Miw(100px)--pnclg Bgc($lv1BgColor) fi-row:h_Bgc($hoverBgColor) D(tbc)\" data-test=\"fin-col\"><span>67,984,000</span></div><div class=\"Ta(c) Py(6px) Bxz(bb) BdB Bdc($seperatorColor) Miw(120px) Miw(100px)--pnclg D(tbc)\" data-test=\"fin-col\"><span>56,571,000</span></div><div class=\"Ta(c) Py(6px) Bxz(bb) BdB Bdc($seperatorColor) Miw(120px) Miw(100px)--pnclg Bgc($lv1BgColor) fi-row:h_Bgc($hoverBgColor) D(tbc)\" data-test=\"fin-col\"><span>54,033,000</span></div></div>, <div class=\"D(tbr) fi-row Bgc($hoverBgColor):h\"><div class=\"D(tbc) Ta(start) Pend(15px)--mv2 Pend(10px) Bxz(bb) Py(8px) Bdends(s) Bdbs(s) Bdstarts(s) Bdstartw(1px) Bdbw(1px) Bdendw(1px) Bdc($seperatorColor) Pos(st) Start(0) Bgc($lv2BgColor) fi-row:h_Bgc($hoverBgColor) Pstart(15px)--mv2 Pstart(10px)\"><div class=\"D(ib) Va(m) Ell Mt(-3px) W(215px)--mv2 W(200px) undefined\" title=\"Operating Income\"><span class=\"Va(m)\">Operating Income</span></div><div class=\"W(3px) Pos(a) Start(100%) T(0) H(100%) Bg($pfColumnFakeShadowGradient) Pe(n) Pend(5px)\"></div></div><div class=\"Ta(c) Py(6px) Bxz(bb) BdB Bdc($seperatorColor) Miw(120px) Miw(100px)--pnclg Bgc($lv1BgColor) fi-row:h_Bgc($hoverBgColor) D(tbc)\" data-test=\"fin-col\"><span>74,842,000</span></div><div class=\"Ta(c) Py(6px) Bxz(bb) BdB Bdc($seperatorColor) Miw(120px) Miw(100px)--pnclg D(tbc)\" data-test=\"fin-col\"><span>74,842,000</span></div><div class=\"Ta(c) Py(6px) Bxz(bb) BdB Bdc($seperatorColor) Miw(120px) Miw(100px)--pnclg Bgc($lv1BgColor) fi-row:h_Bgc($hoverBgColor) D(tbc)\" data-test=\"fin-col\"><span>78,714,000</span></div><div class=\"Ta(c) Py(6px) Bxz(bb) BdB Bdc($seperatorColor) Miw(120px) Miw(100px)--pnclg D(tbc)\" data-test=\"fin-col\"><span>41,224,000</span></div><div class=\"Ta(c) Py(6px) Bxz(bb) BdB Bdc($seperatorColor) Miw(120px) Miw(100px)--pnclg Bgc($lv1BgColor) fi-row:h_Bgc($hoverBgColor) D(tbc)\" data-test=\"fin-col\"><span>35,928,000</span></div></div>, <div class=\"D(tbr) fi-row Bgc($hoverBgColor):h\"><div class=\"D(tbc) Ta(start) Pend(15px)--mv2 Pend(10px) Bxz(bb) Py(8px) Bdends(s) Bdbs(s) Bdstarts(s) Bdstartw(1px) Bdbw(1px) Bdendw(1px) Bdc($seperatorColor) Pos(st) Start(0) Bgc($lv2BgColor) fi-row:h_Bgc($hoverBgColor) Pstart(15px)--mv2 Pstart(10px)\"><div class=\"D(ib) Va(m) Ell Mt(-3px) W(215px)--mv2 W(200px) undefined\" title=\"Net Non Operating Interest Income Expense\"><button aria-label=\"Net Non Operating Interest Income Expense\" class=\"P(0) M(0) Va(m) Bd(0) Fz(s) Mend(2px) tgglBtn\"><svg class=\"H(16px) Fill($primaryColor) Stk($primaryColor) tgglBtn:h_Fill($linkColor) tgglBtn:h_Stk($linkColor) Cur(p)\" data-icon=\"caret-right\" height=\"16\" style=\"stroke-width:0;vertical-align:bottom\" viewbox=\"0 0 48 48\" width=\"16\"><path d=\"M33.447 24.102L20.72 11.375c-.78-.78-2.048-.78-2.828 0-.78.78-.78 2.047 0 2.828l9.9 9.9-9.9 9.9c-.78.78-.78 2.047 0 2.827.78.78 2.047.78 2.828 0l12.727-12.728z\"></path></svg></button><span class=\"Va(m)\">Net Non Operating Interest Income Expense</span></div><div class=\"W(3px) Pos(a) Start(100%) T(0) H(100%) Bg($pfColumnFakeShadowGradient) Pe(n) Pend(5px)\"></div></div><div class=\"Ta(c) Py(6px) Bxz(bb) BdB Bdc($seperatorColor) Miw(120px) Miw(100px)--pnclg Bgc($lv1BgColor) fi-row:h_Bgc($hoverBgColor) D(tbc)\" data-test=\"fin-col\"><span>1,817,000</span></div><div class=\"Ta(c) Py(6px) Bxz(bb) BdB Bdc($seperatorColor) Miw(120px) Miw(100px)--pnclg D(tbc)\" data-test=\"fin-col\"><span>1,817,000</span></div><div class=\"Ta(c) Py(6px) Bxz(bb) BdB Bdc($seperatorColor) Miw(120px) Miw(100px)--pnclg Bgc($lv1BgColor) fi-row:h_Bgc($hoverBgColor) D(tbc)\" data-test=\"fin-col\"><span>1,153,000</span></div><div class=\"Ta(c) Py(6px) Bxz(bb) BdB Bdc($seperatorColor) Miw(120px) Miw(100px)--pnclg D(tbc)\" data-test=\"fin-col\"><span>1,730,000</span></div><div class=\"Ta(c) Py(6px) Bxz(bb) BdB Bdc($seperatorColor) Miw(120px) Miw(100px)--pnclg Bgc($lv1BgColor) fi-row:h_Bgc($hoverBgColor) D(tbc)\" data-test=\"fin-col\"><span>2,327,000</span></div></div>, <div class=\"D(tbr) fi-row Bgc($hoverBgColor):h\"><div class=\"D(tbc) Ta(start) Pend(15px)--mv2 Pend(10px) Bxz(bb) Py(8px) Bdends(s) Bdbs(s) Bdstarts(s) Bdstartw(1px) Bdbw(1px) Bdendw(1px) Bdc($seperatorColor) Pos(st) Start(0) Bgc($lv2BgColor) fi-row:h_Bgc($hoverBgColor) Pstart(15px)--mv2 Pstart(10px)\"><div class=\"D(ib) Va(m) Ell Mt(-3px) W(215px)--mv2 W(200px) undefined\" title=\"Other Income Expense\"><button aria-label=\"Other Income Expense\" class=\"P(0) M(0) Va(m) Bd(0) Fz(s) Mend(2px) tgglBtn\"><svg class=\"H(16px) Fill($primaryColor) Stk($primaryColor) tgglBtn:h_Fill($linkColor) tgglBtn:h_Stk($linkColor) Cur(p)\" data-icon=\"caret-right\" height=\"16\" style=\"stroke-width:0;vertical-align:bottom\" viewbox=\"0 0 48 48\" width=\"16\"><path d=\"M33.447 24.102L20.72 11.375c-.78-.78-2.048-.78-2.828 0-.78.78-.78 2.047 0 2.828l9.9 9.9-9.9 9.9c-.78.78-.78 2.047 0 2.827.78.78 2.047.78 2.828 0l12.727-12.728z\"></path></svg></button><span class=\"Va(m)\">Other Income Expense</span></div><div class=\"W(3px) Pos(a) Start(100%) T(0) H(100%) Bg($pfColumnFakeShadowGradient) Pe(n) Pend(5px)\"></div></div><div class=\"Ta(c) Py(6px) Bxz(bb) BdB Bdc($seperatorColor) Miw(120px) Miw(100px)--pnclg Bgc($lv1BgColor) fi-row:h_Bgc($hoverBgColor) D(tbc)\" data-test=\"fin-col\"><span>-5,331,000</span></div><div class=\"Ta(c) Py(6px) Bxz(bb) BdB Bdc($seperatorColor) Miw(120px) Miw(100px)--pnclg D(tbc)\" data-test=\"fin-col\"><span>-5,331,000</span></div><div class=\"Ta(c) Py(6px) Bxz(bb) BdB Bdc($seperatorColor) Miw(120px) Miw(100px)--pnclg Bgc($lv1BgColor) fi-row:h_Bgc($hoverBgColor) D(tbc)\" data-test=\"fin-col\"><span>10,867,000</span></div><div class=\"Ta(c) Py(6px) Bxz(bb) BdB Bdc($seperatorColor) Miw(120px) Miw(100px)--pnclg D(tbc)\" data-test=\"fin-col\"><span>5,128,000</span></div><div class=\"Ta(c) Py(6px) Bxz(bb) BdB Bdc($seperatorColor) Miw(120px) Miw(100px)--pnclg Bgc($lv1BgColor) fi-row:h_Bgc($hoverBgColor) D(tbc)\" data-test=\"fin-col\"><span>1,370,000</span></div></div>, <div class=\"D(tbr) fi-row Bgc($hoverBgColor):h\"><div class=\"D(tbc) Ta(start) Pend(15px)--mv2 Pend(10px) Bxz(bb) Py(8px) Bdends(s) Bdbs(s) Bdstarts(s) Bdstartw(1px) Bdbw(1px) Bdendw(1px) Bdc($seperatorColor) Pos(st) Start(0) Bgc($lv2BgColor) fi-row:h_Bgc($hoverBgColor) Pstart(15px)--mv2 Pstart(10px)\"><div class=\"D(ib) Va(m) Ell Mt(-3px) W(215px)--mv2 W(200px) undefined\" title=\"Pretax Income\"><span class=\"Va(m)\">Pretax Income</span></div><div class=\"W(3px) Pos(a) Start(100%) T(0) H(100%) Bg($pfColumnFakeShadowGradient) Pe(n) Pend(5px)\"></div></div><div class=\"Ta(c) Py(6px) Bxz(bb) BdB Bdc($seperatorColor) Miw(120px) Miw(100px)--pnclg Bgc($lv1BgColor) fi-row:h_Bgc($hoverBgColor) D(tbc)\" data-test=\"fin-col\"><span>71,328,000</span></div><div class=\"Ta(c) Py(6px) Bxz(bb) BdB Bdc($seperatorColor) Miw(120px) Miw(100px)--pnclg D(tbc)\" data-test=\"fin-col\"><span>71,328,000</span></div><div class=\"Ta(c) Py(6px) Bxz(bb) BdB Bdc($seperatorColor) Miw(120px) Miw(100px)--pnclg Bgc($lv1BgColor) fi-row:h_Bgc($hoverBgColor) D(tbc)\" data-test=\"fin-col\"><span>90,734,000</span></div><div class=\"Ta(c) Py(6px) Bxz(bb) BdB Bdc($seperatorColor) Miw(120px) Miw(100px)--pnclg D(tbc)\" data-test=\"fin-col\"><span>48,082,000</span></div><div class=\"Ta(c) Py(6px) Bxz(bb) BdB Bdc($seperatorColor) Miw(120px) Miw(100px)--pnclg Bgc($lv1BgColor) fi-row:h_Bgc($hoverBgColor) D(tbc)\" data-test=\"fin-col\"><span>39,625,000</span></div></div>, <div class=\"D(tbr) fi-row Bgc($hoverBgColor):h\"><div class=\"D(tbc) Ta(start) Pend(15px)--mv2 Pend(10px) Bxz(bb) Py(8px) Bdends(s) Bdbs(s) Bdstarts(s) Bdstartw(1px) Bdbw(1px) Bdendw(1px) Bdc($seperatorColor) Pos(st) Start(0) Bgc($lv2BgColor) fi-row:h_Bgc($hoverBgColor) Pstart(15px)--mv2 Pstart(10px)\"><div class=\"D(ib) Va(m) Ell Mt(-3px) W(215px)--mv2 W(200px) undefined\" title=\"Tax Provision\"><span class=\"Va(m)\">Tax Provision</span></div><div class=\"W(3px) Pos(a) Start(100%) T(0) H(100%) Bg($pfColumnFakeShadowGradient) Pe(n) Pend(5px)\"></div></div><div class=\"Ta(c) Py(6px) Bxz(bb) BdB Bdc($seperatorColor) Miw(120px) Miw(100px)--pnclg Bgc($lv1BgColor) fi-row:h_Bgc($hoverBgColor) D(tbc)\" data-test=\"fin-col\"><span>11,356,000</span></div><div class=\"Ta(c) Py(6px) Bxz(bb) BdB Bdc($seperatorColor) Miw(120px) Miw(100px)--pnclg D(tbc)\" data-test=\"fin-col\"><span>11,356,000</span></div><div class=\"Ta(c) Py(6px) Bxz(bb) BdB Bdc($seperatorColor) Miw(120px) Miw(100px)--pnclg Bgc($lv1BgColor) fi-row:h_Bgc($hoverBgColor) D(tbc)\" data-test=\"fin-col\"><span>14,701,000</span></div><div class=\"Ta(c) Py(6px) Bxz(bb) BdB Bdc($seperatorColor) Miw(120px) Miw(100px)--pnclg D(tbc)\" data-test=\"fin-col\"><span>7,813,000</span></div><div class=\"Ta(c) Py(6px) Bxz(bb) BdB Bdc($seperatorColor) Miw(120px) Miw(100px)--pnclg Bgc($lv1BgColor) fi-row:h_Bgc($hoverBgColor) D(tbc)\" data-test=\"fin-col\"><span>5,282,000</span></div></div>, <div class=\"D(tbr) fi-row Bgc($hoverBgColor):h\"><div class=\"D(tbc) Ta(start) Pend(15px)--mv2 Pend(10px) Bxz(bb) Py(8px) Bdends(s) Bdbs(s) Bdstarts(s) Bdstartw(1px) Bdbw(1px) Bdendw(1px) Bdc($seperatorColor) Pos(st) Start(0) Bgc($lv2BgColor) fi-row:h_Bgc($hoverBgColor) Pstart(15px)--mv2 Pstart(10px)\"><div class=\"D(ib) Va(m) Ell Mt(-3px) W(215px)--mv2 W(200px) undefined\" title=\"Net Income Common Stockholders\"><button aria-label=\"Net Income Common Stockholders\" class=\"P(0) M(0) Va(m) Bd(0) Fz(s) Mend(2px) tgglBtn\"><svg class=\"H(16px) Fill($primaryColor) Stk($primaryColor) tgglBtn:h_Fill($linkColor) tgglBtn:h_Stk($linkColor) Cur(p)\" data-icon=\"caret-right\" height=\"16\" style=\"stroke-width:0;vertical-align:bottom\" viewbox=\"0 0 48 48\" width=\"16\"><path d=\"M33.447 24.102L20.72 11.375c-.78-.78-2.048-.78-2.828 0-.78.78-.78 2.047 0 2.828l9.9 9.9-9.9 9.9c-.78.78-.78 2.047 0 2.827.78.78 2.047.78 2.828 0l12.727-12.728z\"></path></svg></button><span class=\"Va(m)\">Net Income Common Stockholders</span></div><div class=\"W(3px) Pos(a) Start(100%) T(0) H(100%) Bg($pfColumnFakeShadowGradient) Pe(n) Pend(5px)\"></div></div><div class=\"Ta(c) Py(6px) Bxz(bb) BdB Bdc($seperatorColor) Miw(120px) Miw(100px)--pnclg Bgc($lv1BgColor) fi-row:h_Bgc($hoverBgColor) D(tbc)\" data-test=\"fin-col\"><span>59,972,000</span></div><div class=\"Ta(c) Py(6px) Bxz(bb) BdB Bdc($seperatorColor) Miw(120px) Miw(100px)--pnclg D(tbc)\" data-test=\"fin-col\"><span>59,972,000</span></div><div class=\"Ta(c) Py(6px) Bxz(bb) BdB Bdc($seperatorColor) Miw(120px) Miw(100px)--pnclg Bgc($lv1BgColor) fi-row:h_Bgc($hoverBgColor) D(tbc)\" data-test=\"fin-col\"><span>76,033,000</span></div><div class=\"Ta(c) Py(6px) Bxz(bb) BdB Bdc($seperatorColor) Miw(120px) Miw(100px)--pnclg D(tbc)\" data-test=\"fin-col\"><span>40,269,000</span></div><div class=\"Ta(c) Py(6px) Bxz(bb) BdB Bdc($seperatorColor) Miw(120px) Miw(100px)--pnclg Bgc($lv1BgColor) fi-row:h_Bgc($hoverBgColor) D(tbc)\" data-test=\"fin-col\"><span>34,343,000</span></div></div>, <div class=\"D(tbr) fi-row Bgc($hoverBgColor):h\"><div class=\"D(tbc) Ta(start) Pend(15px)--mv2 Pend(10px) Bxz(bb) Py(8px) Bdends(s) Bdbs(s) Bdstarts(s) Bdstartw(1px) Bdbw(1px) Bdendw(1px) Bdc($seperatorColor) Pos(st) Start(0) Bgc($lv2BgColor) fi-row:h_Bgc($hoverBgColor) Pstart(15px)--mv2 Pstart(10px)\"><div class=\"D(ib) Va(m) Ell Mt(-3px) W(215px)--mv2 W(200px) undefined\" title=\"Diluted NI Available to Com Stockholders\"><span class=\"Va(m)\">Diluted NI Available to Com Stockholders</span></div><div class=\"W(3px) Pos(a) Start(100%) T(0) H(100%) Bg($pfColumnFakeShadowGradient) Pe(n) Pend(5px)\"></div></div><div class=\"Ta(c) Py(6px) Bxz(bb) BdB Bdc($seperatorColor) Miw(120px) Miw(100px)--pnclg Bgc($lv1BgColor) fi-row:h_Bgc($hoverBgColor) D(tbc)\" data-test=\"fin-col\"><span>59,972,000</span></div><div class=\"Ta(c) Py(6px) Bxz(bb) BdB Bdc($seperatorColor) Miw(120px) Miw(100px)--pnclg D(tbc)\" data-test=\"fin-col\"><span>59,972,000</span></div><div class=\"Ta(c) Py(6px) Bxz(bb) BdB Bdc($seperatorColor) Miw(120px) Miw(100px)--pnclg Bgc($lv1BgColor) fi-row:h_Bgc($hoverBgColor) D(tbc)\" data-test=\"fin-col\"><span>76,033,000</span></div><div class=\"Ta(c) Py(6px) Bxz(bb) BdB Bdc($seperatorColor) Miw(120px) Miw(100px)--pnclg D(tbc)\" data-test=\"fin-col\"><span>40,269,000</span></div><div class=\"Ta(c) Py(6px) Bxz(bb) BdB Bdc($seperatorColor) Miw(120px) Miw(100px)--pnclg Bgc($lv1BgColor) fi-row:h_Bgc($hoverBgColor) D(tbc)\" data-test=\"fin-col\"><span>34,343,000</span></div></div>, <div class=\"D(tbr) fi-row Bgc($hoverBgColor):h\"><div class=\"D(tbc) Ta(start) Pend(15px)--mv2 Pend(10px) Bxz(bb) Py(8px) Bdends(s) Bdbs(s) Bdstarts(s) Bdstartw(1px) Bdbw(1px) Bdendw(1px) Bdc($seperatorColor) Pos(st) Start(0) Bgc($lv2BgColor) fi-row:h_Bgc($hoverBgColor) Pstart(15px)--mv2 Pstart(10px)\"><div class=\"D(ib) Va(m) Ell Mt(-3px) W(215px)--mv2 W(200px) undefined\" title=\"Basic EPS\"><span class=\"Va(m)\">Basic EPS</span></div><div class=\"W(3px) Pos(a) Start(100%) T(0) H(100%) Bg($pfColumnFakeShadowGradient) Pe(n) Pend(5px)\"></div></div><div class=\"Ta(c) Py(6px) Bxz(bb) BdB Bdc($seperatorColor) Miw(120px) Miw(100px)--pnclg Bgc($lv1BgColor) fi-row:h_Bgc($hoverBgColor) D(tbc)\" data-test=\"fin-col\">-</div><div class=\"Ta(c) Py(6px) Bxz(bb) BdB Bdc($seperatorColor) Miw(120px) Miw(100px)--pnclg D(tbc)\" data-test=\"fin-col\">-</div><div class=\"Ta(c) Py(6px) Bxz(bb) BdB Bdc($seperatorColor) Miw(120px) Miw(100px)--pnclg Bgc($lv1BgColor) fi-row:h_Bgc($hoverBgColor) D(tbc)\" data-test=\"fin-col\">5.69</div><div class=\"Ta(c) Py(6px) Bxz(bb) BdB Bdc($seperatorColor) Miw(120px) Miw(100px)--pnclg D(tbc)\" data-test=\"fin-col\">2.96</div><div class=\"Ta(c) Py(6px) Bxz(bb) BdB Bdc($seperatorColor) Miw(120px) Miw(100px)--pnclg Bgc($lv1BgColor) fi-row:h_Bgc($hoverBgColor) D(tbc)\" data-test=\"fin-col\">2.48</div></div>, <div class=\"D(tbr) fi-row Bgc($hoverBgColor):h\"><div class=\"D(tbc) Ta(start) Pend(15px)--mv2 Pend(10px) Bxz(bb) Py(8px) Bdends(s) Bdbs(s) Bdstarts(s) Bdstartw(1px) Bdbw(1px) Bdendw(1px) Bdc($seperatorColor) Pos(st) Start(0) Bgc($lv2BgColor) fi-row:h_Bgc($hoverBgColor) Pstart(15px)--mv2 Pstart(10px)\"><div class=\"D(ib) Va(m) Ell Mt(-3px) W(215px)--mv2 W(200px) undefined\" title=\"Diluted EPS\"><span class=\"Va(m)\">Diluted EPS</span></div><div class=\"W(3px) Pos(a) Start(100%) T(0) H(100%) Bg($pfColumnFakeShadowGradient) Pe(n) Pend(5px)\"></div></div><div class=\"Ta(c) Py(6px) Bxz(bb) BdB Bdc($seperatorColor) Miw(120px) Miw(100px)--pnclg Bgc($lv1BgColor) fi-row:h_Bgc($hoverBgColor) D(tbc)\" data-test=\"fin-col\">-</div><div class=\"Ta(c) Py(6px) Bxz(bb) BdB Bdc($seperatorColor) Miw(120px) Miw(100px)--pnclg D(tbc)\" data-test=\"fin-col\">-</div><div class=\"Ta(c) Py(6px) Bxz(bb) BdB Bdc($seperatorColor) Miw(120px) Miw(100px)--pnclg Bgc($lv1BgColor) fi-row:h_Bgc($hoverBgColor) D(tbc)\" data-test=\"fin-col\">5.61</div><div class=\"Ta(c) Py(6px) Bxz(bb) BdB Bdc($seperatorColor) Miw(120px) Miw(100px)--pnclg D(tbc)\" data-test=\"fin-col\">2.93</div><div class=\"Ta(c) Py(6px) Bxz(bb) BdB Bdc($seperatorColor) Miw(120px) Miw(100px)--pnclg Bgc($lv1BgColor) fi-row:h_Bgc($hoverBgColor) D(tbc)\" data-test=\"fin-col\">2.46</div></div>, <div class=\"D(tbr) fi-row Bgc($hoverBgColor):h\"><div class=\"D(tbc) Ta(start) Pend(15px)--mv2 Pend(10px) Bxz(bb) Py(8px) Bdends(s) Bdbs(s) Bdstarts(s) Bdstartw(1px) Bdbw(1px) Bdendw(1px) Bdc($seperatorColor) Pos(st) Start(0) Bgc($lv2BgColor) fi-row:h_Bgc($hoverBgColor) Pstart(15px)--mv2 Pstart(10px)\"><div class=\"D(ib) Va(m) Ell Mt(-3px) W(215px)--mv2 W(200px) undefined\" title=\"Basic Average Shares\"><span class=\"Va(m)\">Basic Average Shares</span></div><div class=\"W(3px) Pos(a) Start(100%) T(0) H(100%) Bg($pfColumnFakeShadowGradient) Pe(n) Pend(5px)\"></div></div><div class=\"Ta(c) Py(6px) Bxz(bb) BdB Bdc($seperatorColor) Miw(120px) Miw(100px)--pnclg Bgc($lv1BgColor) fi-row:h_Bgc($hoverBgColor) D(tbc)\" data-test=\"fin-col\">-</div><div class=\"Ta(c) Py(6px) Bxz(bb) BdB Bdc($seperatorColor) Miw(120px) Miw(100px)--pnclg D(tbc)\" data-test=\"fin-col\">-</div><div class=\"Ta(c) Py(6px) Bxz(bb) BdB Bdc($seperatorColor) Miw(120px) Miw(100px)--pnclg Bgc($lv1BgColor) fi-row:h_Bgc($hoverBgColor) D(tbc)\" data-test=\"fin-col\"><span>13,352,994</span></div><div class=\"Ta(c) Py(6px) Bxz(bb) BdB Bdc($seperatorColor) Miw(120px) Miw(100px)--pnclg D(tbc)\" data-test=\"fin-col\"><span>13,616,314</span></div><div class=\"Ta(c) Py(6px) Bxz(bb) BdB Bdc($seperatorColor) Miw(120px) Miw(100px)--pnclg Bgc($lv1BgColor) fi-row:h_Bgc($hoverBgColor) D(tbc)\" data-test=\"fin-col\"><span>13,851,914</span></div></div>, <div class=\"D(tbr) fi-row Bgc($hoverBgColor):h\"><div class=\"D(tbc) Ta(start) Pend(15px)--mv2 Pend(10px) Bxz(bb) Py(8px) Bdends(s) Bdbs(s) Bdstarts(s) Bdstartw(1px) Bdbw(1px) Bdendw(1px) Bdc($seperatorColor) Pos(st) Start(0) Bgc($lv2BgColor) fi-row:h_Bgc($hoverBgColor) Pstart(15px)--mv2 Pstart(10px)\"><div class=\"D(ib) Va(m) Ell Mt(-3px) W(215px)--mv2 W(200px) undefined\" title=\"Diluted Average Shares\"><span class=\"Va(m)\">Diluted Average Shares</span></div><div class=\"W(3px) Pos(a) Start(100%) T(0) H(100%) Bg($pfColumnFakeShadowGradient) Pe(n) Pend(5px)\"></div></div><div class=\"Ta(c) Py(6px) Bxz(bb) BdB Bdc($seperatorColor) Miw(120px) Miw(100px)--pnclg Bgc($lv1BgColor) fi-row:h_Bgc($hoverBgColor) D(tbc)\" data-test=\"fin-col\">-</div><div class=\"Ta(c) Py(6px) Bxz(bb) BdB Bdc($seperatorColor) Miw(120px) Miw(100px)--pnclg D(tbc)\" data-test=\"fin-col\">-</div><div class=\"Ta(c) Py(6px) Bxz(bb) BdB Bdc($seperatorColor) Miw(120px) Miw(100px)--pnclg Bgc($lv1BgColor) fi-row:h_Bgc($hoverBgColor) D(tbc)\" data-test=\"fin-col\"><span>13,553,474</span></div><div class=\"Ta(c) Py(6px) Bxz(bb) BdB Bdc($seperatorColor) Miw(120px) Miw(100px)--pnclg D(tbc)\" data-test=\"fin-col\"><span>13,740,554</span></div><div class=\"Ta(c) Py(6px) Bxz(bb) BdB Bdc($seperatorColor) Miw(120px) Miw(100px)--pnclg Bgc($lv1BgColor) fi-row:h_Bgc($hoverBgColor) D(tbc)\" data-test=\"fin-col\"><span>13,971,114</span></div></div>, <div class=\"D(tbr) fi-row Bgc($hoverBgColor):h\"><div class=\"D(tbc) Ta(start) Pend(15px)--mv2 Pend(10px) Bxz(bb) Py(8px) Bdends(s) Bdbs(s) Bdstarts(s) Bdstartw(1px) Bdbw(1px) Bdendw(1px) Bdc($seperatorColor) Pos(st) Start(0) Bgc($lv2BgColor) fi-row:h_Bgc($hoverBgColor) Pstart(15px)--mv2 Pstart(10px)\"><div class=\"D(ib) Va(m) Ell Mt(-3px) W(215px)--mv2 W(200px) undefined\" title=\"Total Operating Income as Reported\"><span class=\"Va(m)\">Total Operating Income as Reported</span></div><div class=\"W(3px) Pos(a) Start(100%) T(0) H(100%) Bg($pfColumnFakeShadowGradient) Pe(n) Pend(5px)\"></div></div><div class=\"Ta(c) Py(6px) Bxz(bb) BdB Bdc($seperatorColor) Miw(120px) Miw(100px)--pnclg Bgc($lv1BgColor) fi-row:h_Bgc($hoverBgColor) D(tbc)\" data-test=\"fin-col\"><span>74,842,000</span></div><div class=\"Ta(c) Py(6px) Bxz(bb) BdB Bdc($seperatorColor) Miw(120px) Miw(100px)--pnclg D(tbc)\" data-test=\"fin-col\"><span>74,842,000</span></div><div class=\"Ta(c) Py(6px) Bxz(bb) BdB Bdc($seperatorColor) Miw(120px) Miw(100px)--pnclg Bgc($lv1BgColor) fi-row:h_Bgc($hoverBgColor) D(tbc)\" data-test=\"fin-col\"><span>78,714,000</span></div><div class=\"Ta(c) Py(6px) Bxz(bb) BdB Bdc($seperatorColor) Miw(120px) Miw(100px)--pnclg D(tbc)\" data-test=\"fin-col\"><span>41,224,000</span></div><div class=\"Ta(c) Py(6px) Bxz(bb) BdB Bdc($seperatorColor) Miw(120px) Miw(100px)--pnclg Bgc($lv1BgColor) fi-row:h_Bgc($hoverBgColor) D(tbc)\" data-test=\"fin-col\"><span>34,231,000</span></div></div>, <div class=\"D(tbr) fi-row Bgc($hoverBgColor):h\"><div class=\"D(tbc) Ta(start) Pend(15px)--mv2 Pend(10px) Bxz(bb) Py(8px) Bdends(s) Bdbs(s) Bdstarts(s) Bdstartw(1px) Bdbw(1px) Bdendw(1px) Bdc($seperatorColor) Pos(st) Start(0) Bgc($lv2BgColor) fi-row:h_Bgc($hoverBgColor) Pstart(15px)--mv2 Pstart(10px)\"><div class=\"D(ib) Va(m) Ell Mt(-3px) W(215px)--mv2 W(200px) undefined\" title=\"Total Expenses\"><span class=\"Va(m)\">Total Expenses</span></div><div class=\"W(3px) Pos(a) Start(100%) T(0) H(100%) Bg($pfColumnFakeShadowGradient) Pe(n) Pend(5px)\"></div></div><div class=\"Ta(c) Py(6px) Bxz(bb) BdB Bdc($seperatorColor) Miw(120px) Miw(100px)--pnclg Bgc($lv1BgColor) fi-row:h_Bgc($hoverBgColor) D(tbc)\" data-test=\"fin-col\"><span>207,994,000</span></div><div class=\"Ta(c) Py(6px) Bxz(bb) BdB Bdc($seperatorColor) Miw(120px) Miw(100px)--pnclg D(tbc)\" data-test=\"fin-col\"><span>207,994,000</span></div><div class=\"Ta(c) Py(6px) Bxz(bb) BdB Bdc($seperatorColor) Miw(120px) Miw(100px)--pnclg Bgc($lv1BgColor) fi-row:h_Bgc($hoverBgColor) D(tbc)\" data-test=\"fin-col\"><span>178,923,000</span></div><div class=\"Ta(c) Py(6px) Bxz(bb) BdB Bdc($seperatorColor) Miw(120px) Miw(100px)--pnclg D(tbc)\" data-test=\"fin-col\"><span>141,303,000</span></div><div class=\"Ta(c) Py(6px) Bxz(bb) BdB Bdc($seperatorColor) Miw(120px) Miw(100px)--pnclg Bgc($lv1BgColor) fi-row:h_Bgc($hoverBgColor) D(tbc)\" data-test=\"fin-col\"><span>125,929,000</span></div></div>, <div class=\"D(tbr) fi-row Bgc($hoverBgColor):h\"><div class=\"D(tbc) Ta(start) Pend(15px)--mv2 Pend(10px) Bxz(bb) Py(8px) Bdends(s) Bdbs(s) Bdstarts(s) Bdstartw(1px) Bdbw(1px) Bdendw(1px) Bdc($seperatorColor) Pos(st) Start(0) Bgc($lv2BgColor) fi-row:h_Bgc($hoverBgColor) Pstart(15px)--mv2 Pstart(10px)\"><div class=\"D(ib) Va(m) Ell Mt(-3px) W(215px)--mv2 W(200px) undefined\" title=\"Net Income from Continuing &amp; Discontinued Operation\"><span class=\"Va(m)\">Net Income from Continuing &amp; Discontinued Operation</span></div><div class=\"W(3px) Pos(a) Start(100%) T(0) H(100%) Bg($pfColumnFakeShadowGradient) Pe(n) Pend(5px)\"></div></div><div class=\"Ta(c) Py(6px) Bxz(bb) BdB Bdc($seperatorColor) Miw(120px) Miw(100px)--pnclg Bgc($lv1BgColor) fi-row:h_Bgc($hoverBgColor) D(tbc)\" data-test=\"fin-col\"><span>59,972,000</span></div><div class=\"Ta(c) Py(6px) Bxz(bb) BdB Bdc($seperatorColor) Miw(120px) Miw(100px)--pnclg D(tbc)\" data-test=\"fin-col\"><span>59,972,000</span></div><div class=\"Ta(c) Py(6px) Bxz(bb) BdB Bdc($seperatorColor) Miw(120px) Miw(100px)--pnclg Bgc($lv1BgColor) fi-row:h_Bgc($hoverBgColor) D(tbc)\" data-test=\"fin-col\"><span>76,033,000</span></div><div class=\"Ta(c) Py(6px) Bxz(bb) BdB Bdc($seperatorColor) Miw(120px) Miw(100px)--pnclg D(tbc)\" data-test=\"fin-col\"><span>40,269,000</span></div><div class=\"Ta(c) Py(6px) Bxz(bb) BdB Bdc($seperatorColor) Miw(120px) Miw(100px)--pnclg Bgc($lv1BgColor) fi-row:h_Bgc($hoverBgColor) D(tbc)\" data-test=\"fin-col\"><span>34,343,000</span></div></div>, <div class=\"D(tbr) fi-row Bgc($hoverBgColor):h\"><div class=\"D(tbc) Ta(start) Pend(15px)--mv2 Pend(10px) Bxz(bb) Py(8px) Bdends(s) Bdbs(s) Bdstarts(s) Bdstartw(1px) Bdbw(1px) Bdendw(1px) Bdc($seperatorColor) Pos(st) Start(0) Bgc($lv2BgColor) fi-row:h_Bgc($hoverBgColor) Pstart(15px)--mv2 Pstart(10px)\"><div class=\"D(ib) Va(m) Ell Mt(-3px) W(215px)--mv2 W(200px) undefined\" title=\"Normalized Income\"><span class=\"Va(m)\">Normalized Income</span></div><div class=\"W(3px) Pos(a) Start(100%) T(0) H(100%) Bg($pfColumnFakeShadowGradient) Pe(n) Pend(5px)\"></div></div><div class=\"Ta(c) Py(6px) Bxz(bb) BdB Bdc($seperatorColor) Miw(120px) Miw(100px)--pnclg Bgc($lv1BgColor) fi-row:h_Bgc($hoverBgColor) D(tbc)\" data-test=\"fin-col\"><span>65,163,493</span></div><div class=\"Ta(c) Py(6px) Bxz(bb) BdB Bdc($seperatorColor) Miw(120px) Miw(100px)--pnclg D(tbc)\" data-test=\"fin-col\"><span>65,163,493</span></div><div class=\"Ta(c) Py(6px) Bxz(bb) BdB Bdc($seperatorColor) Miw(120px) Miw(100px)--pnclg Bgc($lv1BgColor) fi-row:h_Bgc($hoverBgColor) D(tbc)\" data-test=\"fin-col\"><span>65,951,860</span></div><div class=\"Ta(c) Py(6px) Bxz(bb) BdB Bdc($seperatorColor) Miw(120px) Miw(100px)--pnclg D(tbc)\" data-test=\"fin-col\"><span>35,263,626</span></div><div class=\"Ta(c) Py(6px) Bxz(bb) BdB Bdc($seperatorColor) Miw(120px) Miw(100px)--pnclg Bgc($lv1BgColor) fi-row:h_Bgc($hoverBgColor) D(tbc)\" data-test=\"fin-col\"><span>33,299,132</span></div></div>, <div class=\"D(tbr) fi-row Bgc($hoverBgColor):h\"><div class=\"D(tbc) Ta(start) Pend(15px)--mv2 Pend(10px) Bxz(bb) Py(8px) Bdends(s) Bdbs(s) Bdstarts(s) Bdstartw(1px) Bdbw(1px) Bdendw(1px) Bdc($seperatorColor) Pos(st) Start(0) Bgc($lv2BgColor) fi-row:h_Bgc($hoverBgColor) Pstart(15px)--mv2 Pstart(10px)\"><div class=\"D(ib) Va(m) Ell Mt(-3px) W(215px)--mv2 W(200px) undefined\" title=\"Interest Income\"><span class=\"Va(m)\">Interest Income</span></div><div class=\"W(3px) Pos(a) Start(100%) T(0) H(100%) Bg($pfColumnFakeShadowGradient) Pe(n) Pend(5px)\"></div></div><div class=\"Ta(c) Py(6px) Bxz(bb) BdB Bdc($seperatorColor) Miw(120px) Miw(100px)--pnclg Bgc($lv1BgColor) fi-row:h_Bgc($hoverBgColor) D(tbc)\" data-test=\"fin-col\"><span>2,174,000</span></div><div class=\"Ta(c) Py(6px) Bxz(bb) BdB Bdc($seperatorColor) Miw(120px) Miw(100px)--pnclg D(tbc)\" data-test=\"fin-col\"><span>2,174,000</span></div><div class=\"Ta(c) Py(6px) Bxz(bb) BdB Bdc($seperatorColor) Miw(120px) Miw(100px)--pnclg Bgc($lv1BgColor) fi-row:h_Bgc($hoverBgColor) D(tbc)\" data-test=\"fin-col\"><span>1,499,000</span></div><div class=\"Ta(c) Py(6px) Bxz(bb) BdB Bdc($seperatorColor) Miw(120px) Miw(100px)--pnclg D(tbc)\" data-test=\"fin-col\"><span>1,865,000</span></div><div class=\"Ta(c) Py(6px) Bxz(bb) BdB Bdc($seperatorColor) Miw(120px) Miw(100px)--pnclg Bgc($lv1BgColor) fi-row:h_Bgc($hoverBgColor) D(tbc)\" data-test=\"fin-col\"><span>2,427,000</span></div></div>, <div class=\"D(tbr) fi-row Bgc($hoverBgColor):h\"><div class=\"D(tbc) Ta(start) Pend(15px)--mv2 Pend(10px) Bxz(bb) Py(8px) Bdends(s) Bdbs(s) Bdstarts(s) Bdstartw(1px) Bdbw(1px) Bdendw(1px) Bdc($seperatorColor) Pos(st) Start(0) Bgc($lv2BgColor) fi-row:h_Bgc($hoverBgColor) Pstart(15px)--mv2 Pstart(10px)\"><div class=\"D(ib) Va(m) Ell Mt(-3px) W(215px)--mv2 W(200px) undefined\" title=\"Interest Expense\"><span class=\"Va(m)\">Interest Expense</span></div><div class=\"W(3px) Pos(a) Start(100%) T(0) H(100%) Bg($pfColumnFakeShadowGradient) Pe(n) Pend(5px)\"></div></div><div class=\"Ta(c) Py(6px) Bxz(bb) BdB Bdc($seperatorColor) Miw(120px) Miw(100px)--pnclg Bgc($lv1BgColor) fi-row:h_Bgc($hoverBgColor) D(tbc)\" data-test=\"fin-col\"><span>357,000</span></div><div class=\"Ta(c) Py(6px) Bxz(bb) BdB Bdc($seperatorColor) Miw(120px) Miw(100px)--pnclg D(tbc)\" data-test=\"fin-col\"><span>357,000</span></div><div class=\"Ta(c) Py(6px) Bxz(bb) BdB Bdc($seperatorColor) Miw(120px) Miw(100px)--pnclg Bgc($lv1BgColor) fi-row:h_Bgc($hoverBgColor) D(tbc)\" data-test=\"fin-col\"><span>346,000</span></div><div class=\"Ta(c) Py(6px) Bxz(bb) BdB Bdc($seperatorColor) Miw(120px) Miw(100px)--pnclg D(tbc)\" data-test=\"fin-col\"><span>135,000</span></div><div class=\"Ta(c) Py(6px) Bxz(bb) BdB Bdc($seperatorColor) Miw(120px) Miw(100px)--pnclg Bgc($lv1BgColor) fi-row:h_Bgc($hoverBgColor) D(tbc)\" data-test=\"fin-col\"><span>100,000</span></div></div>, <div class=\"D(tbr) fi-row Bgc($hoverBgColor):h\"><div class=\"D(tbc) Ta(start) Pend(15px)--mv2 Pend(10px) Bxz(bb) Py(8px) Bdends(s) Bdbs(s) Bdstarts(s) Bdstartw(1px) Bdbw(1px) Bdendw(1px) Bdc($seperatorColor) Pos(st) Start(0) Bgc($lv2BgColor) fi-row:h_Bgc($hoverBgColor) Pstart(15px)--mv2 Pstart(10px)\"><div class=\"D(ib) Va(m) Ell Mt(-3px) W(215px)--mv2 W(200px) undefined\" title=\"Net Interest Income\"><span class=\"Va(m)\">Net Interest Income</span></div><div class=\"W(3px) Pos(a) Start(100%) T(0) H(100%) Bg($pfColumnFakeShadowGradient) Pe(n) Pend(5px)\"></div></div><div class=\"Ta(c) Py(6px) Bxz(bb) BdB Bdc($seperatorColor) Miw(120px) Miw(100px)--pnclg Bgc($lv1BgColor) fi-row:h_Bgc($hoverBgColor) D(tbc)\" data-test=\"fin-col\"><span>1,817,000</span></div><div class=\"Ta(c) Py(6px) Bxz(bb) BdB Bdc($seperatorColor) Miw(120px) Miw(100px)--pnclg D(tbc)\" data-test=\"fin-col\"><span>1,817,000</span></div><div class=\"Ta(c) Py(6px) Bxz(bb) BdB Bdc($seperatorColor) Miw(120px) Miw(100px)--pnclg Bgc($lv1BgColor) fi-row:h_Bgc($hoverBgColor) D(tbc)\" data-test=\"fin-col\"><span>1,153,000</span></div><div class=\"Ta(c) Py(6px) Bxz(bb) BdB Bdc($seperatorColor) Miw(120px) Miw(100px)--pnclg D(tbc)\" data-test=\"fin-col\"><span>1,730,000</span></div><div class=\"Ta(c) Py(6px) Bxz(bb) BdB Bdc($seperatorColor) Miw(120px) Miw(100px)--pnclg Bgc($lv1BgColor) fi-row:h_Bgc($hoverBgColor) D(tbc)\" data-test=\"fin-col\"><span>2,327,000</span></div></div>, <div class=\"D(tbr) fi-row Bgc($hoverBgColor):h\"><div class=\"D(tbc) Ta(start) Pend(15px)--mv2 Pend(10px) Bxz(bb) Py(8px) Bdends(s) Bdbs(s) Bdstarts(s) Bdstartw(1px) Bdbw(1px) Bdendw(1px) Bdc($seperatorColor) Pos(st) Start(0) Bgc($lv2BgColor) fi-row:h_Bgc($hoverBgColor) Pstart(15px)--mv2 Pstart(10px)\"><div class=\"D(ib) Va(m) Ell Mt(-3px) W(215px)--mv2 W(200px) undefined\" title=\"EBIT\"><span class=\"Va(m)\">EBIT</span></div><div class=\"W(3px) Pos(a) Start(100%) T(0) H(100%) Bg($pfColumnFakeShadowGradient) Pe(n) Pend(5px)\"></div></div><div class=\"Ta(c) Py(6px) Bxz(bb) BdB Bdc($seperatorColor) Miw(120px) Miw(100px)--pnclg Bgc($lv1BgColor) fi-row:h_Bgc($hoverBgColor) D(tbc)\" data-test=\"fin-col\"><span>71,685,000</span></div><div class=\"Ta(c) Py(6px) Bxz(bb) BdB Bdc($seperatorColor) Miw(120px) Miw(100px)--pnclg D(tbc)\" data-test=\"fin-col\"><span>71,685,000</span></div><div class=\"Ta(c) Py(6px) Bxz(bb) BdB Bdc($seperatorColor) Miw(120px) Miw(100px)--pnclg Bgc($lv1BgColor) fi-row:h_Bgc($hoverBgColor) D(tbc)\" data-test=\"fin-col\"><span>91,080,000</span></div><div class=\"Ta(c) Py(6px) Bxz(bb) BdB Bdc($seperatorColor) Miw(120px) Miw(100px)--pnclg D(tbc)\" data-test=\"fin-col\"><span>48,217,000</span></div><div class=\"Ta(c) Py(6px) Bxz(bb) BdB Bdc($seperatorColor) Miw(120px) Miw(100px)--pnclg Bgc($lv1BgColor) fi-row:h_Bgc($hoverBgColor) D(tbc)\" data-test=\"fin-col\"><span>39,725,000</span></div></div>, <div class=\"D(tbr) fi-row Bgc($hoverBgColor):h\"><div class=\"D(tbc) Ta(start) Pend(15px)--mv2 Pend(10px) Bxz(bb) Py(8px) Bdends(s) Bdbs(s) Bdstarts(s) Bdstartw(1px) Bdbw(1px) Bdendw(1px) Bdc($seperatorColor) Pos(st) Start(0) Bgc($lv2BgColor) fi-row:h_Bgc($hoverBgColor) Pstart(15px)--mv2 Pstart(10px)\"><div class=\"D(ib) Va(m) Ell Mt(-3px) W(215px)--mv2 W(200px) undefined\" title=\"EBITDA\"><span class=\"Va(m)\">EBITDA</span></div><div class=\"W(3px) Pos(a) Start(100%) T(0) H(100%) Bg($pfColumnFakeShadowGradient) Pe(n) Pend(5px)\"></div></div><div class=\"Ta(c) Py(6px) Bxz(bb) BdB Bdc($seperatorColor) Miw(120px) Miw(100px)--pnclg Bgc($lv1BgColor) fi-row:h_Bgc($hoverBgColor) D(tbc)\" data-test=\"fin-col\"><span>87,613,000</span></div><div class=\"Ta(c) Py(6px) Bxz(bb) BdB Bdc($seperatorColor) Miw(120px) Miw(100px)--pnclg D(tbc)\" data-test=\"fin-col\">-</div><div class=\"Ta(c) Py(6px) Bxz(bb) BdB Bdc($seperatorColor) Miw(120px) Miw(100px)--pnclg Bgc($lv1BgColor) fi-row:h_Bgc($hoverBgColor) D(tbc)\" data-test=\"fin-col\">-</div><div class=\"Ta(c) Py(6px) Bxz(bb) BdB Bdc($seperatorColor) Miw(120px) Miw(100px)--pnclg D(tbc)\" data-test=\"fin-col\">-</div><div class=\"Ta(c) Py(6px) Bxz(bb) BdB Bdc($seperatorColor) Miw(120px) Miw(100px)--pnclg Bgc($lv1BgColor) fi-row:h_Bgc($hoverBgColor) D(tbc)\" data-test=\"fin-col\">-</div></div>, <div class=\"D(tbr) fi-row Bgc($hoverBgColor):h\"><div class=\"D(tbc) Ta(start) Pend(15px)--mv2 Pend(10px) Bxz(bb) Py(8px) Bdends(s) Bdbs(s) Bdstarts(s) Bdstartw(1px) Bdbw(1px) Bdendw(1px) Bdc($seperatorColor) Pos(st) Start(0) Bgc($lv2BgColor) fi-row:h_Bgc($hoverBgColor) Pstart(15px)--mv2 Pstart(10px)\"><div class=\"D(ib) Va(m) Ell Mt(-3px) W(215px)--mv2 W(200px) undefined\" title=\"Reconciled Cost of Revenue\"><span class=\"Va(m)\">Reconciled Cost of Revenue</span></div><div class=\"W(3px) Pos(a) Start(100%) T(0) H(100%) Bg($pfColumnFakeShadowGradient) Pe(n) Pend(5px)\"></div></div><div class=\"Ta(c) Py(6px) Bxz(bb) BdB Bdc($seperatorColor) Miw(120px) Miw(100px)--pnclg Bgc($lv1BgColor) fi-row:h_Bgc($hoverBgColor) D(tbc)\" data-test=\"fin-col\"><span>126,203,000</span></div><div class=\"Ta(c) Py(6px) Bxz(bb) BdB Bdc($seperatorColor) Miw(120px) Miw(100px)--pnclg D(tbc)\" data-test=\"fin-col\"><span>126,203,000</span></div><div class=\"Ta(c) Py(6px) Bxz(bb) BdB Bdc($seperatorColor) Miw(120px) Miw(100px)--pnclg Bgc($lv1BgColor) fi-row:h_Bgc($hoverBgColor) D(tbc)\" data-test=\"fin-col\"><span>110,939,000</span></div><div class=\"Ta(c) Py(6px) Bxz(bb) BdB Bdc($seperatorColor) Miw(120px) Miw(100px)--pnclg D(tbc)\" data-test=\"fin-col\"><span>84,732,000</span></div><div class=\"Ta(c) Py(6px) Bxz(bb) BdB Bdc($seperatorColor) Miw(120px) Miw(100px)--pnclg Bgc($lv1BgColor) fi-row:h_Bgc($hoverBgColor) D(tbc)\" data-test=\"fin-col\"><span>71,896,000</span></div></div>, <div class=\"D(tbr) fi-row Bgc($hoverBgColor):h\"><div class=\"D(tbc) Ta(start) Pend(15px)--mv2 Pend(10px) Bxz(bb) Py(8px) Bdends(s) Bdbs(s) Bdstarts(s) Bdstartw(1px) Bdbw(1px) Bdendw(1px) Bdc($seperatorColor) Pos(st) Start(0) Bgc($lv2BgColor) fi-row:h_Bgc($hoverBgColor) Pstart(15px)--mv2 Pstart(10px)\"><div class=\"D(ib) Va(m) Ell Mt(-3px) W(215px)--mv2 W(200px) undefined\" title=\"Reconciled Depreciation\"><span class=\"Va(m)\">Reconciled Depreciation</span></div><div class=\"W(3px) Pos(a) Start(100%) T(0) H(100%) Bg($pfColumnFakeShadowGradient) Pe(n) Pend(5px)\"></div></div><div class=\"Ta(c) Py(6px) Bxz(bb) BdB Bdc($seperatorColor) Miw(120px) Miw(100px)--pnclg Bgc($lv1BgColor) fi-row:h_Bgc($hoverBgColor) D(tbc)\" data-test=\"fin-col\"><span>15,928,000</span></div><div class=\"Ta(c) Py(6px) Bxz(bb) BdB Bdc($seperatorColor) Miw(120px) Miw(100px)--pnclg D(tbc)\" data-test=\"fin-col\"><span>15,928,000</span></div><div class=\"Ta(c) Py(6px) Bxz(bb) BdB Bdc($seperatorColor) Miw(120px) Miw(100px)--pnclg Bgc($lv1BgColor) fi-row:h_Bgc($hoverBgColor) D(tbc)\" data-test=\"fin-col\"><span>12,441,000</span></div><div class=\"Ta(c) Py(6px) Bxz(bb) BdB Bdc($seperatorColor) Miw(120px) Miw(100px)--pnclg D(tbc)\" data-test=\"fin-col\"><span>13,697,000</span></div><div class=\"Ta(c) Py(6px) Bxz(bb) BdB Bdc($seperatorColor) Miw(120px) Miw(100px)--pnclg Bgc($lv1BgColor) fi-row:h_Bgc($hoverBgColor) D(tbc)\" data-test=\"fin-col\"><span>11,781,000</span></div></div>, <div class=\"D(tbr) fi-row Bgc($hoverBgColor):h\"><div class=\"D(tbc) Ta(start) Pend(15px)--mv2 Pend(10px) Bxz(bb) Py(8px) Bdends(s) Bdbs(s) Bdstarts(s) Bdstartw(1px) Bdbw(1px) Bdendw(1px) Bdc($seperatorColor) Pos(st) Start(0) Bgc($lv2BgColor) fi-row:h_Bgc($hoverBgColor) Pstart(15px)--mv2 Pstart(10px)\"><div class=\"D(ib) Va(m) Ell Mt(-3px) W(215px)--mv2 W(200px) undefined\" title=\"Net Income from Continuing Operation Net Minority Interest\"><span class=\"Va(m)\">Net Income from Continuing Operation Net Minority Interest</span></div><div class=\"W(3px) Pos(a) Start(100%) T(0) H(100%) Bg($pfColumnFakeShadowGradient) Pe(n) Pend(5px)\"></div></div><div class=\"Ta(c) Py(6px) Bxz(bb) BdB Bdc($seperatorColor) Miw(120px) Miw(100px)--pnclg Bgc($lv1BgColor) fi-row:h_Bgc($hoverBgColor) D(tbc)\" data-test=\"fin-col\"><span>59,972,000</span></div><div class=\"Ta(c) Py(6px) Bxz(bb) BdB Bdc($seperatorColor) Miw(120px) Miw(100px)--pnclg D(tbc)\" data-test=\"fin-col\"><span>59,972,000</span></div><div class=\"Ta(c) Py(6px) Bxz(bb) BdB Bdc($seperatorColor) Miw(120px) Miw(100px)--pnclg Bgc($lv1BgColor) fi-row:h_Bgc($hoverBgColor) D(tbc)\" data-test=\"fin-col\"><span>76,033,000</span></div><div class=\"Ta(c) Py(6px) Bxz(bb) BdB Bdc($seperatorColor) Miw(120px) Miw(100px)--pnclg D(tbc)\" data-test=\"fin-col\"><span>40,269,000</span></div><div class=\"Ta(c) Py(6px) Bxz(bb) BdB Bdc($seperatorColor) Miw(120px) Miw(100px)--pnclg Bgc($lv1BgColor) fi-row:h_Bgc($hoverBgColor) D(tbc)\" data-test=\"fin-col\"><span>34,343,000</span></div></div>, <div class=\"D(tbr) fi-row Bgc($hoverBgColor):h\"><div class=\"D(tbc) Ta(start) Pend(15px)--mv2 Pend(10px) Bxz(bb) Py(8px) Bdends(s) Bdbs(s) Bdstarts(s) Bdstartw(1px) Bdbw(1px) Bdendw(1px) Bdc($seperatorColor) Pos(st) Start(0) Bgc($lv2BgColor) fi-row:h_Bgc($hoverBgColor) Pstart(15px)--mv2 Pstart(10px)\"><div class=\"D(ib) Va(m) Ell Mt(-3px) W(215px)--mv2 W(200px) undefined\" title=\"Total Unusual Items Excluding Goodwill\"><span class=\"Va(m)\">Total Unusual Items Excluding Goodwill</span></div><div class=\"W(3px) Pos(a) Start(100%) T(0) H(100%) Bg($pfColumnFakeShadowGradient) Pe(n) Pend(5px)\"></div></div><div class=\"Ta(c) Py(6px) Bxz(bb) BdB Bdc($seperatorColor) Miw(120px) Miw(100px)--pnclg Bgc($lv1BgColor) fi-row:h_Bgc($hoverBgColor) D(tbc)\" data-test=\"fin-col\"><span>-6,173,000</span></div><div class=\"Ta(c) Py(6px) Bxz(bb) BdB Bdc($seperatorColor) Miw(120px) Miw(100px)--pnclg D(tbc)\" data-test=\"fin-col\"><span>-6,173,000</span></div><div class=\"Ta(c) Py(6px) Bxz(bb) BdB Bdc($seperatorColor) Miw(120px) Miw(100px)--pnclg Bgc($lv1BgColor) fi-row:h_Bgc($hoverBgColor) D(tbc)\" data-test=\"fin-col\"><span>12,030,000</span></div><div class=\"Ta(c) Py(6px) Bxz(bb) BdB Bdc($seperatorColor) Miw(120px) Miw(100px)--pnclg D(tbc)\" data-test=\"fin-col\"><span>5,973,000</span></div><div class=\"Ta(c) Py(6px) Bxz(bb) BdB Bdc($seperatorColor) Miw(120px) Miw(100px)--pnclg Bgc($lv1BgColor) fi-row:h_Bgc($hoverBgColor) D(tbc)\" data-test=\"fin-col\"><span>1,204,000</span></div></div>, <div class=\"D(tbr) fi-row Bgc($hoverBgColor):h\"><div class=\"D(tbc) Ta(start) Pend(15px)--mv2 Pend(10px) Bxz(bb) Py(8px) Bdends(s) Bdbs(s) Bdstarts(s) Bdstartw(1px) Bdbw(1px) Bdendw(1px) Bdc($seperatorColor) Pos(st) Start(0) Bgc($lv2BgColor) fi-row:h_Bgc($hoverBgColor) Pstart(15px)--mv2 Pstart(10px)\"><div class=\"D(ib) Va(m) Ell Mt(-3px) W(215px)--mv2 W(200px) undefined\" title=\"Total Unusual Items\"><span class=\"Va(m)\">Total Unusual Items</span></div><div class=\"W(3px) Pos(a) Start(100%) T(0) H(100%) Bg($pfColumnFakeShadowGradient) Pe(n) Pend(5px)\"></div></div><div class=\"Ta(c) Py(6px) Bxz(bb) BdB Bdc($seperatorColor) Miw(120px) Miw(100px)--pnclg Bgc($lv1BgColor) fi-row:h_Bgc($hoverBgColor) D(tbc)\" data-test=\"fin-col\"><span>-6,173,000</span></div><div class=\"Ta(c) Py(6px) Bxz(bb) BdB Bdc($seperatorColor) Miw(120px) Miw(100px)--pnclg D(tbc)\" data-test=\"fin-col\"><span>-6,173,000</span></div><div class=\"Ta(c) Py(6px) Bxz(bb) BdB Bdc($seperatorColor) Miw(120px) Miw(100px)--pnclg Bgc($lv1BgColor) fi-row:h_Bgc($hoverBgColor) D(tbc)\" data-test=\"fin-col\"><span>12,030,000</span></div><div class=\"Ta(c) Py(6px) Bxz(bb) BdB Bdc($seperatorColor) Miw(120px) Miw(100px)--pnclg D(tbc)\" data-test=\"fin-col\"><span>5,973,000</span></div><div class=\"Ta(c) Py(6px) Bxz(bb) BdB Bdc($seperatorColor) Miw(120px) Miw(100px)--pnclg Bgc($lv1BgColor) fi-row:h_Bgc($hoverBgColor) D(tbc)\" data-test=\"fin-col\"><span>1,204,000</span></div></div>, <div class=\"D(tbr) fi-row Bgc($hoverBgColor):h\"><div class=\"D(tbc) Ta(start) Pend(15px)--mv2 Pend(10px) Bxz(bb) Py(8px) Bdends(s) Bdbs(s) Bdstarts(s) Bdstartw(1px) Bdbw(1px) Bdendw(1px) Bdc($seperatorColor) Pos(st) Start(0) Bgc($lv2BgColor) fi-row:h_Bgc($hoverBgColor) Pstart(15px)--mv2 Pstart(10px)\"><div class=\"D(ib) Va(m) Ell Mt(-3px) W(215px)--mv2 W(200px) undefined\" title=\"Normalized EBITDA\"><span class=\"Va(m)\">Normalized EBITDA</span></div><div class=\"W(3px) Pos(a) Start(100%) T(0) H(100%) Bg($pfColumnFakeShadowGradient) Pe(n) Pend(5px)\"></div></div><div class=\"Ta(c) Py(6px) Bxz(bb) BdB Bdc($seperatorColor) Miw(120px) Miw(100px)--pnclg Bgc($lv1BgColor) fi-row:h_Bgc($hoverBgColor) D(tbc)\" data-test=\"fin-col\"><span>93,786,000</span></div><div class=\"Ta(c) Py(6px) Bxz(bb) BdB Bdc($seperatorColor) Miw(120px) Miw(100px)--pnclg D(tbc)\" data-test=\"fin-col\"><span>93,786,000</span></div><div class=\"Ta(c) Py(6px) Bxz(bb) BdB Bdc($seperatorColor) Miw(120px) Miw(100px)--pnclg Bgc($lv1BgColor) fi-row:h_Bgc($hoverBgColor) D(tbc)\" data-test=\"fin-col\"><span>91,491,000</span></div><div class=\"Ta(c) Py(6px) Bxz(bb) BdB Bdc($seperatorColor) Miw(120px) Miw(100px)--pnclg D(tbc)\" data-test=\"fin-col\"><span>55,941,000</span></div><div class=\"Ta(c) Py(6px) Bxz(bb) BdB Bdc($seperatorColor) Miw(120px) Miw(100px)--pnclg Bgc($lv1BgColor) fi-row:h_Bgc($hoverBgColor) D(tbc)\" data-test=\"fin-col\"><span>50,302,000</span></div></div>, <div class=\"D(tbr) fi-row Bgc($hoverBgColor):h\"><div class=\"D(tbc) Ta(start) Pend(15px)--mv2 Pend(10px) Bxz(bb) Py(8px) Bdends(s) Bdbs(s) Bdstarts(s) Bdstartw(1px) Bdbw(1px) Bdendw(1px) Bdc($seperatorColor) Pos(st) Start(0) Bgc($lv2BgColor) fi-row:h_Bgc($hoverBgColor) Pstart(15px)--mv2 Pstart(10px)\"><div class=\"D(ib) Va(m) Ell Mt(-3px) W(215px)--mv2 W(200px) undefined\" title=\"Tax Rate for Calcs\"><span class=\"Va(m)\">Tax Rate for Calcs</span></div><div class=\"W(3px) Pos(a) Start(100%) T(0) H(100%) Bg($pfColumnFakeShadowGradient) Pe(n) Pend(5px)\"></div></div><div class=\"Ta(c) Py(6px) Bxz(bb) BdB Bdc($seperatorColor) Miw(120px) Miw(100px)--pnclg Bgc($lv1BgColor) fi-row:h_Bgc($hoverBgColor) D(tbc)\" data-test=\"fin-col\"><span>0</span></div><div class=\"Ta(c) Py(6px) Bxz(bb) BdB Bdc($seperatorColor) Miw(120px) Miw(100px)--pnclg D(tbc)\" data-test=\"fin-col\"><span>0</span></div><div class=\"Ta(c) Py(6px) Bxz(bb) BdB Bdc($seperatorColor) Miw(120px) Miw(100px)--pnclg Bgc($lv1BgColor) fi-row:h_Bgc($hoverBgColor) D(tbc)\" data-test=\"fin-col\"><span>0</span></div><div class=\"Ta(c) Py(6px) Bxz(bb) BdB Bdc($seperatorColor) Miw(120px) Miw(100px)--pnclg D(tbc)\" data-test=\"fin-col\"><span>0</span></div><div class=\"Ta(c) Py(6px) Bxz(bb) BdB Bdc($seperatorColor) Miw(120px) Miw(100px)--pnclg Bgc($lv1BgColor) fi-row:h_Bgc($hoverBgColor) D(tbc)\" data-test=\"fin-col\"><span>0</span></div></div>, <div class=\"D(tbr) fi-row Bgc($hoverBgColor):h\"><div class=\"D(tbc) Ta(start) Pend(15px)--mv2 Pend(10px) Bxz(bb) Py(8px) Bdends(s) Bdbs(s) Bdstarts(s) Bdstartw(1px) Bdbw(1px) Bdendw(1px) Bdc($seperatorColor) Pos(st) Start(0) Bgc($lv2BgColor) fi-row:h_Bgc($hoverBgColor) Pstart(15px)--mv2 Pstart(10px)\"><div class=\"D(ib) Va(m) Ell Mt(-3px) W(215px)--mv2 W(200px) undefined\" title=\"Tax Effect of Unusual Items\"><span class=\"Va(m)\">Tax Effect of Unusual Items</span></div><div class=\"W(3px) Pos(a) Start(100%) T(0) H(100%) Bg($pfColumnFakeShadowGradient) Pe(n) Pend(5px)\"></div></div><div class=\"Ta(c) Py(6px) Bxz(bb) BdB Bdc($seperatorColor) Miw(120px) Miw(100px)--pnclg Bgc($lv1BgColor) fi-row:h_Bgc($hoverBgColor) D(tbc)\" data-test=\"fin-col\"><span>-981,507</span></div><div class=\"Ta(c) Py(6px) Bxz(bb) BdB Bdc($seperatorColor) Miw(120px) Miw(100px)--pnclg D(tbc)\" data-test=\"fin-col\"><span>-981,507</span></div><div class=\"Ta(c) Py(6px) Bxz(bb) BdB Bdc($seperatorColor) Miw(120px) Miw(100px)--pnclg Bgc($lv1BgColor) fi-row:h_Bgc($hoverBgColor) D(tbc)\" data-test=\"fin-col\"><span>1,948,860</span></div><div class=\"Ta(c) Py(6px) Bxz(bb) BdB Bdc($seperatorColor) Miw(120px) Miw(100px)--pnclg D(tbc)\" data-test=\"fin-col\"><span>967,626</span></div><div class=\"Ta(c) Py(6px) Bxz(bb) BdB Bdc($seperatorColor) Miw(120px) Miw(100px)--pnclg Bgc($lv1BgColor) fi-row:h_Bgc($hoverBgColor) D(tbc)\" data-test=\"fin-col\"><span>160,132</span></div></div>]\n"
     ]
    }
   ],
   "source": [
    "url = 'https://finance.yahoo.com/quote/GOOG/financials?p=GOOG'\n",
    "agent = {\"User-Agent\":'Mozilla/5.0 (Windows NT 6.3; WOW64) AppleWebKit/537.36 (KHTML, like Gecko) Chrome/59.0.3071.115 Safari/537.36'}\n",
    "r = requests.get(url, headers = agent, timeout=1000)\n",
    "soup = BeautifulSoup(r.content)\n",
    "\n",
    "\n",
    "revenue_quarterly = soup.find_all(\"div\", {\"D(tbr) fi-row Bgc($hoverBgColor):h\"})\n",
    "print(revenue_quarterly)"
   ]
  },
  {
   "cell_type": "code",
   "execution_count": 13,
   "metadata": {},
   "outputs": [
    {
     "name": "stdout",
     "output_type": "stream",
     "text": [
      "<div class=\"D(tbr) fi-row Bgc($hoverBgColor):h\"><div class=\"D(tbc) Ta(start) Pend(15px)--mv2 Pend(10px) Bxz(bb) Py(8px) Bdends(s) Bdbs(s) Bdstarts(s) Bdstartw(1px) Bdbw(1px) Bdendw(1px) Bdc($seperatorColor) Pos(st) Start(0) Bgc($lv2BgColor) fi-row:h_Bgc($hoverBgColor) Pstart(15px)--mv2 Pstart(10px)\"><div class=\"D(ib) Va(m) Ell Mt(-3px) W(215px)--mv2 W(200px) undefined\" title=\"Total Revenue\"><button aria-label=\"Total Revenue\" class=\"P(0) M(0) Va(m) Bd(0) Fz(s) Mend(2px) tgglBtn\"><svg class=\"H(16px) Fill($primaryColor) Stk($primaryColor) tgglBtn:h_Fill($linkColor) tgglBtn:h_Stk($linkColor) Cur(p)\" data-icon=\"caret-right\" height=\"16\" style=\"stroke-width:0;vertical-align:bottom\" viewbox=\"0 0 48 48\" width=\"16\"><path d=\"M33.447 24.102L20.72 11.375c-.78-.78-2.048-.78-2.828 0-.78.78-.78 2.047 0 2.828l9.9 9.9-9.9 9.9c-.78.78-.78 2.047 0 2.827.78.78 2.047.78 2.828 0l12.727-12.728z\"></path></svg></button><span class=\"Va(m)\">Total Revenue</span></div><div class=\"W(3px) Pos(a) Start(100%) T(0) H(100%) Bg($pfColumnFakeShadowGradient) Pe(n) Pend(5px)\"></div></div><div class=\"Ta(c) Py(6px) Bxz(bb) BdB Bdc($seperatorColor) Miw(120px) Miw(100px)--pnclg Bgc($lv1BgColor) fi-row:h_Bgc($hoverBgColor) D(tbc)\" data-test=\"fin-col\"><span>387,537,000</span></div><div class=\"Ta(c) Py(6px) Bxz(bb) BdB Bdc($seperatorColor) Miw(120px) Miw(100px)--pnclg D(tbc)\" data-test=\"fin-col\"><span>394,328,000</span></div><div class=\"Ta(c) Py(6px) Bxz(bb) BdB Bdc($seperatorColor) Miw(120px) Miw(100px)--pnclg Bgc($lv1BgColor) fi-row:h_Bgc($hoverBgColor) D(tbc)\" data-test=\"fin-col\"><span>365,817,000</span></div><div class=\"Ta(c) Py(6px) Bxz(bb) BdB Bdc($seperatorColor) Miw(120px) Miw(100px)--pnclg D(tbc)\" data-test=\"fin-col\"><span>274,515,000</span></div><div class=\"Ta(c) Py(6px) Bxz(bb) BdB Bdc($seperatorColor) Miw(120px) Miw(100px)--pnclg Bgc($lv1BgColor) fi-row:h_Bgc($hoverBgColor) D(tbc)\" data-test=\"fin-col\"><span>260,174,000</span></div></div>\n"
     ]
    }
   ],
   "source": [
    "titles = revenue_quarterly[0].find_all(\"div\", {\"D(tbr) fi-row Bgc($hoverBgColor):h\"})\n",
    "\n",
    "print(revenue_quarterly[0])"
   ]
  },
  {
   "cell_type": "code",
   "execution_count": 36,
   "metadata": {},
   "outputs": [
    {
     "name": "stdout",
     "output_type": "stream",
     "text": [
      "[10.0, 41.0, 13.0]\n"
     ]
    }
   ],
   "source": [
    "#(?<=data-test=\\\"fin-col\\\"><span>)(.*?)(?=<\\/span><\\/div>)\n",
    "revenue_quarterly = soup.find_all(\"div\", {\"D(tbr) fi-row Bgc($hoverBgColor):h\"})\n",
    "revenue_change = []\n",
    "revenue_symbol = re.compile('(?<=data-test=\\\"fin-col\\\"><span>)(.*?)(?=<\\/span><\\/div>)')\n",
    "revenue_list = re.findall(revenue_symbol, str(revenue_quarterly[0]))\n",
    "i = 0\n",
    "\n",
    "if revenue_list[0] == revenue_list[1]:\n",
    "    revenue_list.pop(0)\n",
    "\n",
    "for rev in reversed(revenue_list):\n",
    "    rev = int(rev.replace(',',''))\n",
    "    \n",
    "    if i == 0:\n",
    "        i += 1\n",
    "        temp = rev\n",
    "        continue\n",
    "    else:\n",
    "        revenue_change.append(round((rev-temp)/temp,2)*100)\n",
    "    temp = rev\n",
    "revenue_change = revenue_change[::-1]\n",
    "\n",
    "if len(revenue_change) < 3:\n",
    "    while len(revenue_change) != 3:\n",
    "        revenue_change.append(0)\n",
    "elif len(revenue_change) > 3:\n",
    "    while len(revenue_change) != 3:\n",
    "        revenue_change.pop()\n",
    "\n",
    "print(revenue_change)"
   ]
  },
  {
   "cell_type": "code",
   "execution_count": 25,
   "metadata": {},
   "outputs": [
    {
     "name": "stdout",
     "output_type": "stream",
     "text": [
      "<div class=\"D(tbr) fi-row Bgc($hoverBgColor):h\"><div class=\"D(tbc) Ta(start) Pend(15px)--mv2 Pend(10px) Bxz(bb) Py(8px) Bdends(s) Bdbs(s) Bdstarts(s) Bdstartw(1px) Bdbw(1px) Bdendw(1px) Bdc($seperatorColor) Pos(st) Start(0) Bgc($lv2BgColor) fi-row:h_Bgc($hoverBgColor) Pstart(15px)--mv2 Pstart(10px)\"><div class=\"D(ib) Va(m) Ell Mt(-3px) W(215px)--mv2 W(200px) undefined\" title=\"Free Cash Flow\"><span class=\"Va(m)\">Free Cash Flow</span></div><div class=\"W(3px) Pos(a) Start(100%) T(0) H(100%) Bg($pfColumnFakeShadowGradient) Pe(n) Pend(5px)\"></div></div><div class=\"Ta(c) Py(6px) Bxz(bb) BdB Bdc($seperatorColor) Miw(120px) Miw(100px)--pnclg Bgc($lv1BgColor) fi-row:h_Bgc($hoverBgColor) D(tbc)\" data-test=\"fin-col\"><span>60,010,000</span></div><div class=\"Ta(c) Py(6px) Bxz(bb) BdB Bdc($seperatorColor) Miw(120px) Miw(100px)--pnclg D(tbc)\" data-test=\"fin-col\"><span>60,010,000</span></div><div class=\"Ta(c) Py(6px) Bxz(bb) BdB Bdc($seperatorColor) Miw(120px) Miw(100px)--pnclg Bgc($lv1BgColor) fi-row:h_Bgc($hoverBgColor) D(tbc)\" data-test=\"fin-col\"><span>67,012,000</span></div><div class=\"Ta(c) Py(6px) Bxz(bb) BdB Bdc($seperatorColor) Miw(120px) Miw(100px)--pnclg D(tbc)\" data-test=\"fin-col\"><span>42,843,000</span></div><div class=\"Ta(c) Py(6px) Bxz(bb) BdB Bdc($seperatorColor) Miw(120px) Miw(100px)--pnclg Bgc($lv1BgColor) fi-row:h_Bgc($hoverBgColor) D(tbc)\" data-test=\"fin-col\"><span>30,972,000</span></div></div>\n"
     ]
    }
   ],
   "source": [
    "url = 'https://finance.yahoo.com/quote/GOOG/cash-flow?p=GOOG'\n",
    "agent = {\"User-Agent\":'Mozilla/5.0 (Windows NT 6.3; WOW64) AppleWebKit/537.36 (KHTML, like Gecko) Chrome/59.0.3071.115 Safari/537.36'}\n",
    "r = requests.get(url, headers = agent, timeout=1000)\n",
    "soup = BeautifulSoup(r.content)\n",
    "\n",
    "\n",
    "free_cash = soup.find_all(\"div\", {\"class\" : \"D(tbr) fi-row Bgc($hoverBgColor):h\"})\n",
    "print(free_cash[-1])\n"
   ]
  },
  {
   "cell_type": "code",
   "execution_count": 22,
   "metadata": {},
   "outputs": [
    {
     "name": "stdout",
     "output_type": "stream",
     "text": [
      "[-10.45, 56.41, 38.33]\n"
     ]
    }
   ],
   "source": [
    "cash_symbol = re.compile('(?<=data-test=\\\"fin-col\\\"><span>)(.*?)(?=<\\/span><\\/div>)')\n",
    "cash_list = re.findall(cash_symbol, str(free_cash[-1]))\n",
    "free_cach_flow_change = []\n",
    "if cash_list[0] == cash_list[1]:\n",
    "    cash_list.pop(0)\n",
    "i = 0\n",
    "for flow in reversed(cash_list):\n",
    "    flow = int(flow.replace(',',''))\n",
    "    \n",
    "    if i == 0:\n",
    "        i += 1\n",
    "        temp = flow\n",
    "        continue\n",
    "    else:\n",
    "        free_cach_flow_change.append(round(((flow-temp)*100)/temp ,2))\n",
    "    temp = flow\n",
    "free_cach_flow_change = free_cach_flow_change[::-1]\n",
    "\n",
    "if len(free_cach_flow_change) < 3:\n",
    "    while len(free_cach_flow_change) != 3:\n",
    "        free_cach_flow_change.append(0)\n",
    "elif len(free_cach_flow_change) > 3:\n",
    "    while len(free_cach_flow_change) != 3:\n",
    "        free_cach_flow_change.pop()\n",
    "\n",
    "print(free_cach_flow_change)"
   ]
  },
  {
   "cell_type": "code",
   "execution_count": 15,
   "metadata": {},
   "outputs": [
    {
     "name": "stdout",
     "output_type": "stream",
     "text": [
      "1648577503\n",
      "1680199903\n",
      "https://finance.yahoo.com/quote/GOOG/history?period1=1648577503&period2=1680199903&interval=1wk&filter=history&frequency=1d&includeAdjustedClose=true\n"
     ]
    }
   ],
   "source": [
    "now = datetime.utcnow()\n",
    "dateto = int(now.timestamp())\n",
    "dt = timedelta(days=366)\n",
    "datefrom = int((now - dt).timestamp())\n",
    "print(datefrom)\n",
    "print(dateto)\n",
    "\n",
    "url = f'https://finance.yahoo.com/quote/GOOG/history?period1={datefrom}&period2={dateto}&interval=1wk&filter=history&frequency=1wk&includeAdjustedClose=true'\n",
    "print(url)\n",
    "\n",
    "\n",
    "#table historical-prices"
   ]
  },
  {
   "cell_type": "code",
   "execution_count": 16,
   "metadata": {},
   "outputs": [],
   "source": [
    "\n",
    "agent = {\"User-Agent\":'Mozilla/5.0 (Windows NT 6.3; WOW64) AppleWebKit/537.36 (KHTML, like Gecko) Chrome/59.0.3071.115 Safari/537.36'}\n",
    "r = requests.get(url, headers = agent, timeout=1000)\n",
    "soup = BeautifulSoup(r.content)\n",
    "\n",
    "price_history = soup.find_all(\"tr\", {\"class\" : \"BdT Bdc($seperatorColor) Ta(end) Fz(s) Whs(nw)\"})"
   ]
  },
  {
   "cell_type": "code",
   "execution_count": 17,
   "metadata": {},
   "outputs": [
    {
     "name": "stdout",
     "output_type": "stream",
     "text": [
      "101.32\n",
      "0.57\n",
      "-1.73\n",
      "38.87\n"
     ]
    }
   ],
   "source": [
    "closed_prece_list = []\n",
    "\n",
    "for row in price_history:\n",
    "        price_symbol = re.compile('(?<=<span>)(.*?)(?=<\\/span>)')\n",
    "        price_list = re.findall(price_symbol, str(row))\n",
    "        if len(price_list) == 2:\n",
    "                continue\n",
    "        closed_prece_list.append(float(price_list[-3]))\n",
    "        \n",
    "current_price = closed_prece_list[0]\n",
    "week_change = round(((closed_prece_list[1] - current_price)* 100) / current_price, 2)\n",
    "half_year_change = round(((closed_prece_list[26] - current_price)* 100) / current_price, 2)\n",
    "year_change = round(((closed_prece_list[-1] - current_price)* 100) / current_price, 2)\n",
    "\n",
    "print(current_price)\n",
    "print(week_change)\n",
    "print(half_year_change)\n",
    "print(year_change)"
   ]
  }
 ],
 "metadata": {
  "kernelspec": {
   "display_name": "Python 3",
   "language": "python",
   "name": "python3"
  },
  "language_info": {
   "codemirror_mode": {
    "name": "ipython",
    "version": 3
   },
   "file_extension": ".py",
   "mimetype": "text/x-python",
   "name": "python",
   "nbconvert_exporter": "python",
   "pygments_lexer": "ipython3",
   "version": "3.10.7"
  },
  "orig_nbformat": 4
 },
 "nbformat": 4,
 "nbformat_minor": 2
}
